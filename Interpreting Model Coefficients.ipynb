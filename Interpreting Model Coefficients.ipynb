{
 "cells": [
  {
   "cell_type": "markdown",
   "metadata": {},
   "source": [
    "### Interpreting Coefficients\n",
    "\n",
    "In this notebook, I will fit a few different models.\n",
    "In some cases, the coefficients of our linear regression models wouldn't be kept due to the lack of significance. But that is not the aim of this notebook - **this notebook is strictly to assure I am comfortable with how to interpret coefficients when they are interpretable at all**."
   ]
  },
  {
   "cell_type": "code",
   "execution_count": 11,
   "metadata": {},
   "outputs": [
    {
     "data": {
      "text/html": [
       "<div>\n",
       "<style scoped>\n",
       "    .dataframe tbody tr th:only-of-type {\n",
       "        vertical-align: middle;\n",
       "    }\n",
       "\n",
       "    .dataframe tbody tr th {\n",
       "        vertical-align: top;\n",
       "    }\n",
       "\n",
       "    .dataframe thead th {\n",
       "        text-align: right;\n",
       "    }\n",
       "</style>\n",
       "<table border=\"1\" class=\"dataframe\">\n",
       "  <thead>\n",
       "    <tr style=\"text-align: right;\">\n",
       "      <th></th>\n",
       "      <th>house_id</th>\n",
       "      <th>neighborhood</th>\n",
       "      <th>area</th>\n",
       "      <th>bedrooms</th>\n",
       "      <th>bathrooms</th>\n",
       "      <th>style</th>\n",
       "      <th>price</th>\n",
       "    </tr>\n",
       "  </thead>\n",
       "  <tbody>\n",
       "    <tr>\n",
       "      <th>0</th>\n",
       "      <td>1112</td>\n",
       "      <td>B</td>\n",
       "      <td>1188</td>\n",
       "      <td>3</td>\n",
       "      <td>2</td>\n",
       "      <td>ranch</td>\n",
       "      <td>598291</td>\n",
       "    </tr>\n",
       "    <tr>\n",
       "      <th>1</th>\n",
       "      <td>491</td>\n",
       "      <td>B</td>\n",
       "      <td>3512</td>\n",
       "      <td>5</td>\n",
       "      <td>3</td>\n",
       "      <td>victorian</td>\n",
       "      <td>1744259</td>\n",
       "    </tr>\n",
       "    <tr>\n",
       "      <th>2</th>\n",
       "      <td>5952</td>\n",
       "      <td>B</td>\n",
       "      <td>1134</td>\n",
       "      <td>3</td>\n",
       "      <td>2</td>\n",
       "      <td>ranch</td>\n",
       "      <td>571669</td>\n",
       "    </tr>\n",
       "    <tr>\n",
       "      <th>3</th>\n",
       "      <td>3525</td>\n",
       "      <td>A</td>\n",
       "      <td>1940</td>\n",
       "      <td>4</td>\n",
       "      <td>2</td>\n",
       "      <td>ranch</td>\n",
       "      <td>493675</td>\n",
       "    </tr>\n",
       "    <tr>\n",
       "      <th>4</th>\n",
       "      <td>5108</td>\n",
       "      <td>B</td>\n",
       "      <td>2208</td>\n",
       "      <td>6</td>\n",
       "      <td>4</td>\n",
       "      <td>victorian</td>\n",
       "      <td>1101539</td>\n",
       "    </tr>\n",
       "  </tbody>\n",
       "</table>\n",
       "</div>"
      ],
      "text/plain": [
       "   house_id neighborhood  area  bedrooms  bathrooms      style    price\n",
       "0      1112            B  1188         3          2      ranch   598291\n",
       "1       491            B  3512         5          3  victorian  1744259\n",
       "2      5952            B  1134         3          2      ranch   571669\n",
       "3      3525            A  1940         4          2      ranch   493675\n",
       "4      5108            B  2208         6          4  victorian  1101539"
      ]
     },
     "execution_count": 11,
     "metadata": {},
     "output_type": "execute_result"
    }
   ],
   "source": [
    "import numpy as np\n",
    "import pandas as pd\n",
    "import statsmodels.api as sm;\n",
    "\n",
    "df = pd.read_csv('./house_prices.csv')\n",
    "df.head()"
   ]
  },
  {
   "cell_type": "markdown",
   "metadata": {},
   "source": [
    "We will be fitting a number of different models to this dataset throughout this notebook. \n",
    "\n",
    "### Model 1\n",
    "\n",
    "`1.` For the first model, let's fit a model to predict `price` using `neighborhood`, `style`, and the `area` of the home.  Using the output to match the correct values to the corresponding interpretation.  "
   ]
  },
  {
   "cell_type": "code",
   "execution_count": 12,
   "metadata": {},
   "outputs": [
    {
     "data": {
      "text/html": [
       "<div>\n",
       "<style scoped>\n",
       "    .dataframe tbody tr th:only-of-type {\n",
       "        vertical-align: middle;\n",
       "    }\n",
       "\n",
       "    .dataframe tbody tr th {\n",
       "        vertical-align: top;\n",
       "    }\n",
       "\n",
       "    .dataframe thead th {\n",
       "        text-align: right;\n",
       "    }\n",
       "</style>\n",
       "<table border=\"1\" class=\"dataframe\">\n",
       "  <thead>\n",
       "    <tr style=\"text-align: right;\">\n",
       "      <th></th>\n",
       "      <th>house_id</th>\n",
       "      <th>area</th>\n",
       "      <th>bedrooms</th>\n",
       "      <th>bathrooms</th>\n",
       "      <th>price</th>\n",
       "      <th>neighborhood_B</th>\n",
       "      <th>neighborhood_C</th>\n",
       "      <th>style_ranch</th>\n",
       "      <th>style_victorian</th>\n",
       "    </tr>\n",
       "  </thead>\n",
       "  <tbody>\n",
       "    <tr>\n",
       "      <th>0</th>\n",
       "      <td>1112</td>\n",
       "      <td>1188</td>\n",
       "      <td>3</td>\n",
       "      <td>2</td>\n",
       "      <td>598291</td>\n",
       "      <td>1</td>\n",
       "      <td>0</td>\n",
       "      <td>1</td>\n",
       "      <td>0</td>\n",
       "    </tr>\n",
       "    <tr>\n",
       "      <th>1</th>\n",
       "      <td>491</td>\n",
       "      <td>3512</td>\n",
       "      <td>5</td>\n",
       "      <td>3</td>\n",
       "      <td>1744259</td>\n",
       "      <td>1</td>\n",
       "      <td>0</td>\n",
       "      <td>0</td>\n",
       "      <td>1</td>\n",
       "    </tr>\n",
       "    <tr>\n",
       "      <th>2</th>\n",
       "      <td>5952</td>\n",
       "      <td>1134</td>\n",
       "      <td>3</td>\n",
       "      <td>2</td>\n",
       "      <td>571669</td>\n",
       "      <td>1</td>\n",
       "      <td>0</td>\n",
       "      <td>1</td>\n",
       "      <td>0</td>\n",
       "    </tr>\n",
       "    <tr>\n",
       "      <th>3</th>\n",
       "      <td>3525</td>\n",
       "      <td>1940</td>\n",
       "      <td>4</td>\n",
       "      <td>2</td>\n",
       "      <td>493675</td>\n",
       "      <td>0</td>\n",
       "      <td>0</td>\n",
       "      <td>1</td>\n",
       "      <td>0</td>\n",
       "    </tr>\n",
       "    <tr>\n",
       "      <th>4</th>\n",
       "      <td>5108</td>\n",
       "      <td>2208</td>\n",
       "      <td>6</td>\n",
       "      <td>4</td>\n",
       "      <td>1101539</td>\n",
       "      <td>1</td>\n",
       "      <td>0</td>\n",
       "      <td>0</td>\n",
       "      <td>1</td>\n",
       "    </tr>\n",
       "  </tbody>\n",
       "</table>\n",
       "</div>"
      ],
      "text/plain": [
       "   house_id  area  bedrooms  bathrooms    price  neighborhood_B  \\\n",
       "0      1112  1188         3          2   598291               1   \n",
       "1       491  3512         5          3  1744259               1   \n",
       "2      5952  1134         3          2   571669               1   \n",
       "3      3525  1940         4          2   493675               0   \n",
       "4      5108  2208         6          4  1101539               1   \n",
       "\n",
       "   neighborhood_C  style_ranch  style_victorian  \n",
       "0               0            1                0  \n",
       "1               0            0                1  \n",
       "2               0            1                0  \n",
       "3               0            1                0  \n",
       "4               0            0                1  "
      ]
     },
     "execution_count": 12,
     "metadata": {},
     "output_type": "execute_result"
    }
   ],
   "source": [
    "#Let's create dummy variables for the categorical features 'neighborhood' and 'style'. We'll drop the first category to avoid multicollinearity.\n",
    "# Creating dummy variables\n",
    "neighborhood_dummies = pd.get_dummies(df['neighborhood'], prefix='neighborhood', drop_first=True)\n",
    "style_dummies = pd.get_dummies(df['style'], prefix='style', drop_first=True)\n",
    "\n",
    "# Adding dummy variables to the dataframe\n",
    "df = pd.concat([df, neighborhood_dummies, style_dummies], axis=1)\n",
    "\n",
    "# Dropping original 'neighborhood' and 'style' columns\n",
    "df.drop(['neighborhood', 'style'], axis=1, inplace=True)\n",
    "df.head()"
   ]
  },
  {
   "cell_type": "code",
   "execution_count": 13,
   "metadata": {},
   "outputs": [
    {
     "name": "stdout",
     "output_type": "stream",
     "text": [
      "                            OLS Regression Results                            \n",
      "==============================================================================\n",
      "Dep. Variable:                  price   R-squared:                       0.919\n",
      "Model:                            OLS   Adj. R-squared:                  0.919\n",
      "Method:                 Least Squares   F-statistic:                 1.372e+04\n",
      "Date:                Fri, 02 Jun 2023   Prob (F-statistic):               0.00\n",
      "Time:                        08:44:23   Log-Likelihood:                -80348.\n",
      "No. Observations:                6028   AIC:                         1.607e+05\n",
      "Df Residuals:                    6022   BIC:                         1.607e+05\n",
      "Df Model:                           5                                         \n",
      "Covariance Type:            nonrobust                                         \n",
      "===================================================================================\n",
      "                      coef    std err          t      P>|t|      [0.025      0.975]\n",
      "-----------------------------------------------------------------------------------\n",
      "const           -1.985e+05   5425.043    -36.590      0.000   -2.09e+05   -1.88e+05\n",
      "neighborhood_B   5.245e+05   4575.989    114.611      0.000    5.15e+05    5.33e+05\n",
      "neighborhood_C    194.2464   4965.459      0.039      0.969   -9539.832    9928.324\n",
      "style_ranch     -1974.7032   5757.527     -0.343      0.732   -1.33e+04    9312.111\n",
      "style_victorian -6262.7365   6893.293     -0.909      0.364   -1.98e+04    7250.586\n",
      "area              348.7375      2.205    158.177      0.000     344.415     353.060\n",
      "==============================================================================\n",
      "Omnibus:                      114.369   Durbin-Watson:                   2.002\n",
      "Prob(Omnibus):                  0.000   Jarque-Bera (JB):              139.082\n",
      "Skew:                           0.271   Prob(JB):                     6.29e-31\n",
      "Kurtosis:                       3.509   Cond. No.                     1.11e+04\n",
      "==============================================================================\n",
      "\n",
      "Warnings:\n",
      "[1] Standard Errors assume that the covariance matrix of the errors is correctly specified.\n",
      "[2] The condition number is large, 1.11e+04. This might indicate that there are\n",
      "strong multicollinearity or other numerical problems.\n"
     ]
    }
   ],
   "source": [
    "#Now, let's build the first model using 'neighborhood_B', 'neighborhood_C', 'style_ranch', 'style_victorian', and 'area' as predictors.\n",
    "# Defining the predictors and the target variable\n",
    "X1 = df[['neighborhood_B', 'neighborhood_C', 'style_ranch', 'style_victorian', 'area']]\n",
    "y = df['price']\n",
    "\n",
    "# Adding an intercept to the predictors\n",
    "X1 = sm.add_constant(X1)\n",
    "\n",
    "# Fitting the model\n",
    "model1 = sm.OLS(y, X1).fit()\n",
    "print(model1.summary())"
   ]
  },
  {
   "cell_type": "markdown",
   "metadata": {},
   "source": [
    ">Turns out we can interpret all of the coefficients in this first model. Since there are no higher order terms"
   ]
  },
  {
   "cell_type": "markdown",
   "metadata": {},
   "source": [
    "> - The predicted difference in price between a victorian and lodge home, holding all other variables constant is more expensive by 6262.73.\n",
    "> - The predicted difference in the price of a home in neighborhood in A as compared to neighborhood C, holding other variables constant: -194.25\n",
    "> - For every one unit increase in the area of a home, we predict the price of the home to increase by 348.74 (holding all other variables constant)?\n",
    "> - The predicted home price if the home is a lodge in neighborhood C with an area of 0: -198300\n"
   ]
  },
  {
   "cell_type": "markdown",
   "metadata": {},
   "source": [
    "### Model 2\n",
    "\n",
    "`2.` Now let's try a second model for predicting price.  This time, using `area` and `area squared` to predict price.  Also using the `style` of the home, but not `neighborhood` this time. I will again need to use your dummy variables, and add an intercept to the model. "
   ]
  },
  {
   "cell_type": "code",
   "execution_count": 14,
   "metadata": {},
   "outputs": [],
   "source": [
    "#First, let's create the 'area_squared' feature.\n",
    "\n",
    "# Creating 'area_squared' feature\n",
    "df['area_squared'] = df['area'] ** 2\n"
   ]
  },
  {
   "cell_type": "code",
   "execution_count": 15,
   "metadata": {},
   "outputs": [],
   "source": [
    "#adding an intercept to the dataframe\n",
    "df['intercept'] = 1"
   ]
  },
  {
   "cell_type": "code",
   "execution_count": 17,
   "metadata": {},
   "outputs": [
    {
     "name": "stdout",
     "output_type": "stream",
     "text": [
      "                            OLS Regression Results                            \n",
      "==============================================================================\n",
      "Dep. Variable:                  price   R-squared:                       0.678\n",
      "Model:                            OLS   Adj. R-squared:                  0.678\n",
      "Method:                 Least Squares   F-statistic:                     3173.\n",
      "Date:                Fri, 02 Jun 2023   Prob (F-statistic):               0.00\n",
      "Time:                        08:47:13   Log-Likelihood:                -84516.\n",
      "No. Observations:                6028   AIC:                         1.690e+05\n",
      "Df Residuals:                    6023   BIC:                         1.691e+05\n",
      "Df Model:                           4                                         \n",
      "Covariance Type:            nonrobust                                         \n",
      "===================================================================================\n",
      "                      coef    std err          t      P>|t|      [0.025      0.975]\n",
      "-----------------------------------------------------------------------------------\n",
      "intercept        1.855e+04   1.26e+04      1.467      0.142   -6229.316    4.33e+04\n",
      "area              334.0146     13.525     24.696      0.000     307.501     360.528\n",
      "area_squared        0.0029      0.002      1.283      0.199      -0.002       0.007\n",
      "style_ranch      9917.2547   1.27e+04      0.781      0.435    -1.5e+04    3.48e+04\n",
      "style_victorian  2509.3956   1.53e+04      0.164      0.870   -2.75e+04    3.25e+04\n",
      "==============================================================================\n",
      "Omnibus:                      375.220   Durbin-Watson:                   2.009\n",
      "Prob(Omnibus):                  0.000   Jarque-Bera (JB):              340.688\n",
      "Skew:                           0.519   Prob(JB):                     1.05e-74\n",
      "Kurtosis:                       2.471   Cond. No.                     4.33e+07\n",
      "==============================================================================\n",
      "\n",
      "Warnings:\n",
      "[1] Standard Errors assume that the covariance matrix of the errors is correctly specified.\n",
      "[2] The condition number is large, 4.33e+07. This might indicate that there are\n",
      "strong multicollinearity or other numerical problems.\n"
     ]
    }
   ],
   "source": [
    "#Creating the multiple linear regression model using the 'area', 'area_squared', and dummy variables for 'style' as predictor variables\n",
    "X = df[['intercept', 'area', 'area_squared', 'style_ranch', 'style_victorian']]\n",
    "y = df['price']\n",
    "\n",
    "model = sm.OLS(y, X)\n",
    "results = model.fit()\n",
    "print(results.summary())"
   ]
  },
  {
   "cell_type": "markdown",
   "metadata": {},
   "source": [
    ">With the higher order term, the coefficients associated with area and area squared are not easily interpretable. However, coefficients that are not associated with the higher order terms are still interpretable"
   ]
  },
  {
   "cell_type": "markdown",
   "metadata": {},
   "source": [
    "> Judging by the first results from the two models I built, the best would likely involve only these two variables, as it would be simplified, while still predicting well."
   ]
  },
  {
   "cell_type": "code",
   "execution_count": null,
   "metadata": {},
   "outputs": [],
   "source": []
  }
 ],
 "metadata": {
  "kernelspec": {
   "display_name": "Python 3",
   "language": "python",
   "name": "python3"
  },
  "language_info": {
   "codemirror_mode": {
    "name": "ipython",
    "version": 3
   },
   "file_extension": ".py",
   "mimetype": "text/x-python",
   "name": "python",
   "nbconvert_exporter": "python",
   "pygments_lexer": "ipython3",
   "version": "3.6.3"
  }
 },
 "nbformat": 4,
 "nbformat_minor": 2
}
